{
 "cells": [
  {
   "cell_type": "markdown",
   "metadata": {
    "collapsed": true
   },
   "source": [
    "# How to use Google Spreadsheets as a Database for your projects"
   ]
  },
  {
   "cell_type": "markdown",
   "metadata": {},
   "source": [
    "## Step 1\n",
    "\n",
    "Create a new project inside of Googles API manager.  \n",
    "https://console.developers.google.com/projectselector/apis/library?pli=1\n",
    "\n",
    "## Step 2\n",
    "\n",
    "After you have created a new API project, search for the Google Drive API and enable it, so you can use it in your project.\n",
    "\n",
    "## Step 3 \n",
    "\n",
    "Setup your credentials. We want to call the API via a WebServer. Also choose \"Application data\" as well as \"dont use Googles Compute Engine\".\n",
    "\n",
    "## Step 4\n",
    "\n",
    "Click on \"What Credentials do I need\" and create a Service Accound by choosing a name and assign it the role \"project\", \"editor\" so it is allowed to acces and edit data within the api. \n",
    "Then click on generate!\n",
    "\n",
    "## Step 5\n",
    "\n",
    "After you clicked on create, you will automatically download a .json file. Open it and copy the client E-Mail address.\n",
    "Now open your Google spreadsheet and share that spreadsheet to that E-Mail address.\n",
    "\n",
    "## Step 6\n",
    "\n",
    "Use the follwoing command to pip install two necessary python libs.  \n",
    "\"pip install gspread oauth2client\" \n",
    "gspread is a python library that helps you to open and manipulate google spreadsheets.   \n",
    "https://github.com/burnash/gspread  \n",
    "\n",
    "oauth2client is a pyhton client library for accessing resources protected by OAuth 2.0.  \n",
    "https://github.com/google/oauth2client  \n",
    "Unfortunately the project has lately been deprecated so if it is not working anymore use \"google-auth\" and \"oauthlib\" instead.\n",
    "\n",
    "## Step 7\n",
    "\n",
    "\n",
    "Create a new python script and copy the following code."
   ]
  },
  {
   "cell_type": "code",
   "execution_count": 13,
   "metadata": {},
   "outputs": [
    {
     "name": "stdout",
     "output_type": "stream",
     "text": [
      "[{'Test2': 22, 'Test3': 66, 'Test1': 1}, {'Test2': 33, 'Test3': 77, 'Test1': 2}, {'Test2': 44, 'Test3': 55, 'Test1': 3}, {'Test2': 55, 'Test3': 444, 'Test1': 4}]\n"
     ]
    }
   ],
   "source": [
    "import gspread\n",
    "from oauth2client.service_account import ServiceAccountCredentials\n",
    "\n",
    "\n",
    "# use creds to create a client to interact with the Google Drive API\n",
    "scope = ['https://spreadsheets.google.com/feeds']\n",
    "creds = ServiceAccountCredentials.from_json_keyfile_name('Database2-a33929dd3409.json', scope)\n",
    "client = gspread.authorize(creds)\n",
    "\n",
    "# Find a workbook by name and open the first sheet\n",
    "# Make sure you use the right name here.\n",
    "sheet = client.open(\"Database\").sheet1\n",
    "\n",
    "# Extract and print all of the values\n",
    "list_of_hashes = sheet.get_all_records()\n",
    "print(list_of_hashes)\n"
   ]
  },
  {
   "cell_type": "markdown",
   "metadata": {},
   "source": [
    "To access the full potential of gspread, have a look at the documentation:   \n",
    "http://gspread.readthedocs.io/en/latest/#"
   ]
  },
  {
   "cell_type": "markdown",
   "metadata": {},
   "source": [
    "# Possible Errors\n",
    "\n",
    "Due to a unresolved python issue, it is very likely that you get the following error:\n",
    "\n",
    "Traceback (most recent call last):   \n",
    "  File \"Untitled.py\", line 12, in <module>   \n",
    "    sheet = client.open(\"Database\").sheet1   \n",
    "  File \"C:\\Python34\\lib\\site-packages\\gspread\\client.py\", line 82, in open   \n",
    "    feed = self.get_spreadsheets_feed()   \n",
    "  File \"C:\\Python34\\lib\\site-packages\\gspread\\client.py\", line 155, in get_spreadsheets_feed   \n",
    "    r = self.session.get(url)   \n",
    "  File \"C:\\Python34\\lib\\site-packages\\gspread\\httpsession.py\", line 73, in get     \n",
    "    return self.request('GET', url, params=params, **kwargs)    \n",
    "  File \"C:\\Python34\\lib\\site-packages\\gspread\\httpsession.py\", line 65, in request   \n",
    "    response = func(url, data=data, params=params, headers=request_headers, files=files, json=json)   \n",
    "  File \"C:\\Python34\\lib\\site-packages\\requests\\sessions.py\", line 521, in get   \n",
    "    return self.request('GET', url, **kwargs)   \n",
    "  File \"C:\\Python34\\lib\\site-packages\\requests\\sessions.py\", line 508, in request   \n",
    "    resp = self.send(prep, **send_kwargs)   \n",
    "  File \"C:\\Python34\\lib\\site-packages\\requests\\sessions.py\", line 618, in send   \n",
    "    r = adapter.send(request, **kwargs)   \n",
    "  File \"C:\\Python34\\lib\\site-packages\\requests\\adapters.py\", line 506, in send   \n",
    "    raise SSLError(e, request=request)   \n",
    "requests.exceptions.SSLError: HTTPSConnectionPool(host='spreadsheets.google.com', port=443): Max retries exceeded with url:    /feeds/spreadsheets/private/full (Caused by SSLError(SSLError(1, '[SSL: CERTIFICATE_VERIFY_FAILED] certificate verify failed    (_ssl.c:600)'),))   \n",
    "\n",
    "To solve this problem, enter the following commands into your cmd window:\n",
    "\n",
    "pip install certifi==2015.4.28   \n",
    "pip install tornado\n",
    "\n",
    "You can find more informations about that issue here:\n",
    "https://github.com/burnash/gspread/issues/354"
   ]
  }
 ],
 "metadata": {
  "kernelspec": {
   "display_name": "Python 3",
   "language": "python",
   "name": "python3"
  },
  "language_info": {
   "codemirror_mode": {
    "name": "ipython",
    "version": 3
   },
   "file_extension": ".py",
   "mimetype": "text/x-python",
   "name": "python",
   "nbconvert_exporter": "python",
   "pygments_lexer": "ipython3",
   "version": "3.4.3"
  }
 },
 "nbformat": 4,
 "nbformat_minor": 2
}
