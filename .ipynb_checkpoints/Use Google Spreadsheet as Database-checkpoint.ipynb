{
 "cells": [
  {
   "cell_type": "code",
   "execution_count": null,
   "metadata": {
    "collapsed": true
   },
   "outputs": [],
   "source": []
  },
  {
   "cell_type": "markdown",
   "metadata": {},
   "source": [
    "# Step 1\n",
    "\n",
    "Create a new project inside of Googles API manager.  \n",
    "https://console.developers.google.com/projectselector/apis/library?pli=1\n",
    "\n",
    "# Step 2\n",
    "\n",
    "After you have created a new API project, search for the Google Drive API and enable it, so you can use it in your project.\n",
    "\n",
    "# Step 3 \n",
    "\n",
    "Setup your credentials. We want to call the API via a WebServer. Also choose \"Application data\" as well as \"dont use Googles Compute Engine\".\n",
    "\n",
    "# Step 4\n",
    "\n",
    "Click on \"What Credentials do I need\" and create a Service Accound by choosing a name and assign it the role \"project\", \"editor\" so it is allowed to acces and edit data within the api. \n",
    "Then click on generate!\n",
    "\n",
    "# Step 5\n",
    "\n",
    "After you clicked on create, you will automatically download a .json file. Open it and copy the client E-Mail address.\n",
    "Now open your Google spreadsheet and share that spreadsheet to that E-Mail address.\n",
    "\n",
    "# Step 6\n",
    "\n",
    "Use the follwoing command to pip install two necessary python libs.  \n",
    "\"pip install gspread oauth2client\" \n",
    "gspread is a python library that helps you to open and manipulate google spreadsheets. \n",
    "https://github.com/burnash/gspread  \n",
    "\n",
    "oauth2client is a pyhton client library for accessing resources protected by OAuth 2.0. Unfortunately the project has lately been deprecated so if it is not working anymore use \"google-auth\" and \"oauthlib\" instead.\n",
    "\n",
    "\n"
   ]
  }
 ],
 "metadata": {
  "kernelspec": {
   "display_name": "Python 3",
   "language": "python",
   "name": "python3"
  },
  "language_info": {
   "codemirror_mode": {
    "name": "ipython",
    "version": 3
   },
   "file_extension": ".py",
   "mimetype": "text/x-python",
   "name": "python",
   "nbconvert_exporter": "python",
   "pygments_lexer": "ipython3",
   "version": "3.4.3"
  }
 },
 "nbformat": 4,
 "nbformat_minor": 2
}
